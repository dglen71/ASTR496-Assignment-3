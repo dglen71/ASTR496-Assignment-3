{
 "cells": [
  {
   "cell_type": "markdown",
   "metadata": {},
   "source": [
    "# Assignment 3 - Chemistry Solver\n",
    "Due: 2018-05-04\n",
    "\n",
    "Your next assignment is to develop an ODE solver that follows the evolution of the nine species of H, H+, H-, He, He+, He++, H2, H2+ and e-.\n",
    "\n",
    "You can use the Grackle method paper for this assignment.\n",
    "\n",
    "* Look up the chemical kinetic rate equations\n",
    "* Develop a right-hand side calculation. You may do this by hand, or using SymPy as we did in class.\n",
    "* Calculate the rate coefficients as a function of temperature; you can assume an ideal gas law for the temperature.\n",
    "* Utilize the SciPy integrators to evolve a network of reactions drawn from the Grackle methods paper.\n",
    "\n",
    "You will have until May 4. (May the Fourth be with you.)\n",
    "\n",
    "You should produce the following items:\n",
    "\n",
    "Python code that runs from the command line that accepts\n",
    "* Initial H ionization fraction\n",
    "* Initial He ionization fraction\n",
    "* Molecular hydrogen fraction\n",
    "* Density\n",
    "* Time to evolve to\n",
    "* Integrator to use inside scipy.integrate.ode\n",
    "\n",
    "It also should include:\n",
    "* An integrator that updates based on some safety factor until the time is reached\n",
    "* A set of visualizations that show overall change in the various fractions.\n",
    "* A writeup\n",
    "\n",
    "\n",
    "## Write-Up\n",
    "Your code must be documented; this does not mean extensive comments, but it does mean that each routine must have a brief outline of what it is doing. You must also provide a notebook or other report that walks through how to utilize the code and what to expect.\n",
    "\n",
    "You must evaluate the following items:\n",
    "\n",
    "* When is it slower and faster? When it is near equilibrium or far?\n",
    "* Do you see any particularly interesting regions in phase space?\n",
    "* What was easy or hard?"
   ]
  },
  {
   "cell_type": "code",
   "execution_count": 72,
   "metadata": {
    "collapsed": true
   },
   "outputs": [],
   "source": [
    "%matplotlib inline \n",
    "import numpy as np\n",
    "import matplotlib.pyplot as plt\n",
    "import ipywidgets\n",
    "import sympy\n",
    "import scipy.integrate as sint"
   ]
  },
  {
   "cell_type": "markdown",
   "metadata": {},
   "source": [
    "Below are all of the rate equation functions taken from the grackle source code. To get these equations I mainly looked at the calc_rate_g.F and coll_rates_g.F files in \"grackle / src / clib / \". I had to convert these functions from Fortran to python code, but that wasn't too bad. All of the rate equation functions for the interactions including the photons could not be found but Dr. Turk assured me that was okay."
   ]
  },
  {
   "cell_type": "markdown",
   "metadata": {},
   "source": [
    "I had a coupon from the previous assignement so I was told that we only had to do the six species network. I was told this after I had already started implementing for the nine species network, so that is why many of the other k functions are included. I'll leave them in anyway."
   ]
  },
  {
   "cell_type": "code",
   "execution_count": 73,
   "metadata": {
    "collapsed": true
   },
   "outputs": [],
   "source": [
    "def k1_function(T):\n",
    "    T_eV = T / 11605.0\n",
    "    log_T_eV = np.log(T_eV)\n",
    "    rv = np.exp(-32.71396786375\n",
    "          + 13.53655609057*log_T_eV\n",
    "          - 5.739328757388*log_T_eV**2 \n",
    "          + 1.563154982022*log_T_eV**3\n",
    "          - 0.2877056004391*log_T_eV**4\n",
    "          + 0.03482559773736999*log_T_eV**5\n",
    "          - 0.00263197617559*log_T_eV**6\n",
    "          + 0.0001119543953861*log_T_eV**7\n",
    "          - 2.039149852002e-6*log_T_eV**8)\n",
    "    return rv\n",
    "\n",
    "def k2_function(T):\n",
    "    rv = 4.881357e-6*T**(-1.5)* (1.+1.14813e2 * T**(-0.407))**(-2.242)\n",
    "    return rv\n",
    "\n",
    "def k3_function(T):\n",
    "    T_eV = T / 11605.0\n",
    "    log_T_eV = np.log(T_eV)\n",
    "    rv = np.exp(-44.09864886561001\n",
    "             + 23.91596563469*log_T_eV\n",
    "             - 10.75323019821*log_T_eV**2\n",
    "             + 3.058038757198*log_T_eV**3\n",
    "             - 0.5685118909884001*log_T_eV**4\n",
    "             + 0.06795391233790001*log_T_eV**5\n",
    "             - 0.005009056101857001*log_T_eV**6\n",
    "             + 0.0002067236157507*log_T_eV**7\n",
    "             - 3.649161410833e-6*log_T_eV**8)\n",
    "    return rv\n",
    "\n",
    "def k4_function(T):\n",
    "    T_eV = T / 11605.0\n",
    "    rv = (1.54e-9*(1.0+0.3 / \n",
    "             np.exp(8.099328789667/T_eV))\n",
    "             / (np.exp(40.49664394833662/T_eV)*T_eV**1.5)\n",
    "             + 3.92e-13/T_eV**0.6353)\n",
    "    return rv\n",
    "\n",
    "def k5_function(T):\n",
    "    T_eV = T / 11605.0\n",
    "    log_T_eV = np.log(T_eV)\n",
    "    rv = np.exp(-68.71040990212001\n",
    "             + 43.93347632635*log_T_eV\n",
    "             - 18.48066993568*log_T_eV**2\n",
    "             + 4.701626486759002*log_T_eV**3\n",
    "             - 0.7692466334492*log_T_eV**4\n",
    "             + 0.08113042097303*log_T_eV**5\n",
    "             - 0.005324020628287001*log_T_eV**6\n",
    "             + 0.0001975705312221*log_T_eV**7\n",
    "             - 3.165581065665e-6*log_T_eV**8)\n",
    "    return rv\n",
    "\n",
    "def k6_function(T):\n",
    "    rv = 7.8155e-5*T**(-1.5) * (1.+2.0189e2* T**(-0.407))**(-2.242)\n",
    "    return rv \n",
    "\n",
    "def k7_function(T):\n",
    "    T_eV = T / 11605.0\n",
    "    log_T_eV = np.log(T_eV)\n",
    "    rv = np.exp(-20.37260896533324\n",
    "             + 1.139449335841631*log_T_eV\n",
    "             - 0.1421013521554148*log_T_eV**2\n",
    "             + 0.00846445538663*log_T_eV**3\n",
    "             - 0.0014327641212992*log_T_eV**4\n",
    "             + 0.0002012250284791*log_T_eV**5\n",
    "             + 0.0000866396324309*log_T_eV**6\n",
    "             - 0.00002585009680264*log_T_eV**7\n",
    "             + 2.4555011970392e-6*log_T_eV**8\n",
    "             - 8.06838246118e-8*log_T_eV**9) \n",
    "    return rv\n",
    "\n",
    "def k8_function(T):\n",
    "    rv = 1.75e-17 *T**1.3 * np.exp(-1.578 / T)\n",
    "    return rv\n",
    "\n",
    "#9,10,11 Could not find in Source Code\n",
    "\n",
    "\n",
    "def k12_function(T):\n",
    "    rv = 3.0e-16 * (T/3e2)**0.95 * np.exp(-T/9.32e3)\n",
    "    return rv\n",
    "\n",
    "def k13_function(T):\n",
    "    rv = 1.35e-9*(T**9.8493e-2 + 3.2852e-1 * T**5.5610e-1 + 2.771e-7 * T**2.1826) \\\n",
    "            / (1 + 6.191e-3 * T**1.0461 + 8.9712e-11 * T**3.0424 + 3.2576e-14 * T**3.7741)\n",
    "    return rv\n",
    "\n",
    "def k14_function(T): \n",
    "    rv = 2.10e-20 * (T/30.0)**(-0.15) \n",
    "    return rv\n",
    "\n",
    "def k15_function(T = None):\n",
    "    rv = 6.0e-10\n",
    "    return rv\n",
    "\n",
    "def k16_function(T):\n",
    "    log_T = np.log10(T)\n",
    "    rv = (np.exp(-21237.15/T) * (- 3.3232183e-07 + 3.3735382e-07 * log_T - 1.4491368e-07 * log_T**2 \\\n",
    "                             + 3.4172805e-08 * log_T**3 - 4.7813720e-09 * log_T**4 + 3.9731542e-10 * log_T**5\\\n",
    "                             - 1.8171411e-11 * log_T**6 + 3.5311932e-13 * log_T**7))\n",
    "    return rv\n",
    "\n",
    "def k17_function(T):\n",
    "    rv = 4.4886e-9*T**0.109127*np.exp(-101858/T)\n",
    "    return rv\n",
    "\n",
    "def k18_function(T):\n",
    "    T_eV = T/11605\n",
    "    rv = 1.0670825e-10*T_eV**2.012/(np.exp(4.463/T_eV)*(1+0.2472* T_eV)**3.512)\n",
    "    return rv\n",
    "\n",
    "\n",
    "def k19_function(T):\n",
    "    T_eV = T / 11605.0\n",
    "    log_T_eV = np.log(T_eV)\n",
    "    rv = np.exp(-18.01849334273\n",
    "             + 2.360852208681*log_T_eV\n",
    "             - 0.2827443061704*log_T_eV**2\n",
    "             + 0.01623316639567*log_T_eV**3\n",
    "             - 0.03365012031362999*log_T_eV**4\n",
    "             + 0.01178329782711*log_T_eV**5\n",
    "             - 0.001656194699504*log_T_eV**6\n",
    "             + 0.0001068275202678*log_T_eV**7\n",
    "             - 2.631285809207e-6*log_T_eV**8)\n",
    "    return rv\n",
    "\n",
    "def k20_function(T):\n",
    "    T_eV = T / 11605.0\n",
    "    log_T_eV = np.log(T_eV)\n",
    "    rv = np.exp(-20.37260896533324\n",
    "             + 1.139449335841631*log_T_eV\n",
    "             - 0.1421013521554148*log_T_eV**2\n",
    "             + 0.00846445538663*log_T_eV**3\n",
    "             - 0.0014327641212992*log_T_eV**4\n",
    "             + 0.0002012250284791*log_T_eV**5\n",
    "             + 0.0000866396324309*log_T_eV**6\n",
    "             - 0.00002585009680264*log_T_eV**7\n",
    "             + 2.4555011970392e-6*log_T_eV**8\n",
    "             - 8.06838246118e-8*log_T_eV**9)\n",
    "    return rv\n",
    "    \n",
    "def k21_function(T):\n",
    "    rv = 2.4e-6*(1.0+T/2e4)/np.sqrt(T)\n",
    "    return rv\n",
    "    \n",
    "def k22_function(T):\n",
    "    rv = 4.0e-4*T**(-1.4)*np.exp(-15100/T)\n",
    "    return rv\n",
    "\n",
    "def k23_function(T):\n",
    "    rv = 1.32e-6 * T**(-0.76)\n",
    "    return rv\n",
    "\n",
    "def k24_function(T):\n",
    "    rv = 5.e-7*np.sqrt(100.0/T)\n",
    "    return rv\n",
    "    \n",
    "def k25_function(T):\n",
    "    T_eV = T / 11605.0\n",
    "    rv = 1.0670825e-10*T_eV**2.012 / (np.exp(4.463/T_eV)*(1.0+0.2472* T_eV)**3.512)\n",
    "    return rv\n",
    "\n",
    "#This may not be right?\n",
    "def k26_function(T):\n",
    "    rv = 2.8e-31 * (T**(-0.6e0))\n",
    "    return rv\n",
    "\n",
    "#27-32 Could not find in the source code"
   ]
  },
  {
   "cell_type": "markdown",
   "metadata": {},
   "source": [
    "It should also be noted that some of these k's could not be found anywhere in the grackle source code. For those that were not found there I referenced the following paper: \n",
    "https://arxiv.org/pdf/1604.03372.pdf\n",
    "\n",
    "However, this was only relevent when I was considering the nine species network"
   ]
  },
  {
   "cell_type": "markdown",
   "metadata": {},
   "source": [
    "Here is a plot of all the rate equation functions I will be considering over time:"
   ]
  },
  {
   "cell_type": "code",
   "execution_count": 74,
   "metadata": {},
   "outputs": [
    {
     "name": "stderr",
     "output_type": "stream",
     "text": [
      "/home/derek/anaconda3/lib/python3.6/site-packages/ipykernel_launcher.py:37: RuntimeWarning: overflow encountered in exp\n"
     ]
    },
    {
     "data": {
      "image/png": "[encoded data removed]",
      "text/plain": [
       "<matplotlib.figure.Figure at 0x7ff873fb61d0>"
      ]
     },
     "metadata": {},
     "output_type": "display_data"
    }
   ],
   "source": [
    "Ts = np.logspace(1, 8, 1024)\n",
    "\n",
    "plt.loglog(Ts, k1_function(Ts), label = 'k1')\n",
    "plt.loglog(Ts, k2_function(Ts), label = 'k2')\n",
    "plt.loglog(Ts, k3_function(Ts), label = 'k3')\n",
    "plt.loglog(Ts, k4_function(Ts), label = 'k4')\n",
    "plt.loglog(Ts, k5_function(Ts), label = 'k5')\n",
    "plt.loglog(Ts, k6_function(Ts), label = 'k6')\n",
    "plt.loglog(Ts, k7_function(Ts), label = 'k7')\n",
    "plt.loglog(Ts, k8_function(Ts), label = 'k8')\n",
    "    \n",
    "plt.title(\"Reaction Rates Versus Temperature\")\n",
    "plt.xlabel(\"Temperature\")\n",
    "plt.ylabel(\"Reaction Rate\")\n",
    "plt.ylim(1e-20, 1e-6)\n",
    "plt.legend()\n",
    "plt.show()"
   ]
  },
  {
   "cell_type": "markdown",
   "metadata": {},
   "source": [
    "This plot is important because it can help us to identify when we expect to see the bulk of intersing transistions in our number density plots. Based on the this we can expect to see these occuring at a temperature of 10^4 K or 10^5 K"
   ]
  },
  {
   "cell_type": "markdown",
   "metadata": {},
   "source": [
    "Here I define all of the variables I will use for generating the rhs of the equations.\n",
    "\n",
    "I will be using sympy to do this"
   ]
  },
  {
   "cell_type": "code",
   "execution_count": 5,
   "metadata": {
    "collapsed": true
   },
   "outputs": [],
   "source": [
    "H, Hp, Hm, He, Hep, Hepp, H2, H2p, grain, de = sympy.sympify(\"H, Hp, Hm, He, Hep, Hepp, H2, H2p, grain, de\")\n",
    "k1,k2,k3,k4,k5,k6,k7,k8,k9,k10,k11,k12,k13,k14,k15,k16,k17,k18,k19,k20,k21,k22,k23,k24,k25,k26,k27,k28,k29,k30,k31,k32 = sympy.sympify(\"k1,k2,k3,k4,k5,k6,k7,k8,k9,k10,k11,k12,k13,k14,k15,k16,k17,k18,k19,k20,k21,k22,k23,k24,k25,k26,k27,k28,k29,k30,k31,k32\")"
   ]
  },
  {
   "cell_type": "markdown",
   "metadata": {},
   "source": [
    "Below are all of the reactions being considered. There are 32 of them because I was considering the nine species network. However, I will only select the first 8 of them for the six species network"
   ]
  },
  {
   "cell_type": "code",
   "execution_count": 6,
   "metadata": {
    "collapsed": true
   },
   "outputs": [],
   "source": [
    "r1 = (H + de), (Hp + de + de), k1\n",
    "r2 = (Hp + de), (H), k2\n",
    "r3 = (He + de), (Hep + de + de), k3\n",
    "r4 = (Hep + de), (He), k4\n",
    "r5 = (Hep + de), (Hepp + de + de), k5\n",
    "r6 = (Hepp + de), (Hep), k6\n",
    "r7 = (H + H), (Hp + de + H), k7\n",
    "r8 = (H + He), (Hp + de + He), k8\n",
    "r9 = (H), (Hp + de), k9\n",
    "r10 = (He), (Hep + de), k10\n",
    "r11 = (Hep), (Hepp + de), k11\n",
    "r12 = (H + de), (Hm), k12\n",
    "r13 = (Hm + H), (H2 + de), k13\n",
    "r14 = (H + Hp), (H2p), k14\n",
    "r15 = (H2p + H), (H2 + Hp), k15\n",
    "r16 = (H2 + Hp), (H2p + H), k16\n",
    "r17 = (H2 + de), (H + H + de), k17\n",
    "r18 = (H2 + H), (H + H + H), k18\n",
    "r19 = (Hm + de), (H + de + de), k19\n",
    "r20 = (Hm + H), (H + de + H), k20\n",
    "r21 = (Hm + Hp), (H + H), k21\n",
    "r22 = (Hm + Hp), (H2p + de), k22\n",
    "r23 = (H2p + de), (H + H), k23\n",
    "r24 = (H2p + Hm), (H2 + H), k24\n",
    "r25 = (H + H + H), (H2 + H), k25\n",
    "r26 = (H + H + H2), (H2 + H2), k26\n",
    "r27 = (Hm), (H + de), k27\n",
    "r28 = (H2p), (H + Hp), k28\n",
    "r29 = (H2), (H2p + de), k29\n",
    "r30 = (H2p), (Hp + Hp + de), k30\n",
    "r31 = (H2), (H + H), k31\n",
    "r32 = (H + H + grain), (H2 + grain), k32"
   ]
  },
  {
   "cell_type": "markdown",
   "metadata": {},
   "source": [
    "Here is where I select the 8 rections to be used for the six species network. The [r1,r2] was used only for testing to make sure my results matched what was derived in class."
   ]
  },
  {
   "cell_type": "code",
   "execution_count": 7,
   "metadata": {
    "collapsed": true
   },
   "outputs": [],
   "source": [
    "all_reactions = [r1, r2, r3, r4, r5, r6, r7, r8]\n",
    "#all_reactions = [r1, r2]"
   ]
  },
  {
   "cell_type": "code",
   "execution_count": 8,
   "metadata": {},
   "outputs": [
    {
     "data": {
      "text/plain": [
       "[(H + de, Hp + 2*de, k1),\n",
       " (Hp + de, H, k2),\n",
       " (He + de, Hep + 2*de, k3),\n",
       " (Hep + de, He, k4),\n",
       " (Hep + de, Hepp + 2*de, k5),\n",
       " (Hepp + de, Hep, k6),\n",
       " (2*H, H + Hp + de, k7),\n",
       " (H + He, He + Hp + de, k8)]"
      ]
     },
     "execution_count": 8,
     "metadata": {},
     "output_type": "execute_result"
    }
   ],
   "source": [
    "all_reactions"
   ]
  },
  {
   "cell_type": "markdown",
   "metadata": {},
   "source": [
    "Below are the find_formation and the find_destruction functions. These functions were taken from what we did in lecture and I did not make any changes to these functions. "
   ]
  },
  {
   "cell_type": "code",
   "execution_count": 9,
   "metadata": {
    "collapsed": true
   },
   "outputs": [],
   "source": [
    "def find_formation(species):\n",
    "    rxns = []\n",
    "    for r in all_reactions:\n",
    "        if species in r[1].atoms():\n",
    "            rxns.append(r)\n",
    "    return rxns\n",
    "    \n",
    "def find_destruction(species):\n",
    "    rxns = []\n",
    "    for r in all_reactions:\n",
    "        if species in r[0].atoms():\n",
    "            rxns.append(r)\n",
    "    return rxns"
   ]
  },
  {
   "cell_type": "markdown",
   "metadata": {},
   "source": [
    "Below is the get_rhs function. Given a species variable it will produce the rhs for that function which corresponds to the time derivative of the number density of that species. The idea of this function came from what we coded up in lecture, but I made some changes to it because I think there were some mistakes in what was done.\n",
    "\n",
    "First, I changed what the function examines from lhs.atoms and rhs.atoms to lhs.args and rhs.args. This was done because the atoms function would not include the coefficent in front of a speices in the reactions. This would cause the multiplication for those with a coefficent > 1 to only be considered once when they should be considered as many times as the coefficent. In order to remedy this I added if statements to multipily by 2 or 3 depending on the reaction being considered. This was only an issue in the rhs part.\n",
    "\n",
    "I only considered 2 and 3 because those would be the coefficents that appear on the rhs for the six and nine species network. However, this is not a general fix for any number or type of species."
   ]
  },
  {
   "cell_type": "code",
   "execution_count": 10,
   "metadata": {
    "collapsed": true
   },
   "outputs": [],
   "source": [
    "def get_rhs(species):\n",
    "    dSdt = 0\n",
    "    for lhs, rhs, coeff in find_formation(species):\n",
    "        term = coeff\n",
    "        for atom in list(lhs.args):\n",
    "            term *= atom\n",
    "        for atom in list(rhs.args):\n",
    "            if (\"2*\" + str(species) in str(atom)):\n",
    "                term *= 2\n",
    "            if (\"3*\" + str(species) in str(atom)):\n",
    "                term *= 3\n",
    "        dSdt += term\n",
    "    \n",
    "    for lhs, rhs, coeff in find_destruction(species):\n",
    "        term = -coeff\n",
    "        for atom in list(lhs.args):\n",
    "            term *= atom\n",
    "        dSdt += term\n",
    "    \n",
    "    return dSdt"
   ]
  },
  {
   "cell_type": "markdown",
   "metadata": {},
   "source": [
    "The below equation was used when I was trying to evaluate the rhs symbolically at every time step. I was trying to find a way to generate all of the equations beforehand and then just sub in variables for them during the time steps. The reason I was trying to do this will be explained below. In the end, the only thing it was helpful for was to generate all of the equations I need to code up."
   ]
  },
  {
   "cell_type": "code",
   "execution_count": 11,
   "metadata": {
    "collapsed": true
   },
   "outputs": [],
   "source": [
    "def get_all_equations(elements):\n",
    "    rv = []\n",
    "    for species in elements:\n",
    "        temp = get_rhs(species)\n",
    "        rv.append(temp)\n",
    "    return rv"
   ]
  },
  {
   "cell_type": "code",
   "execution_count": 12,
   "metadata": {},
   "outputs": [
    {
     "data": {
      "text/plain": [
       "[-H*He*k8 - H*de*k1 + Hp*de*k2,\n",
       " H*He*k8 + H*de*k1 + 2*H*k7 - Hp*de*k2,\n",
       " -He*de*k3 + Hep*de*k4,\n",
       " He*de*k3 - Hep*de*k4 - Hep*de*k5 + Hepp*de*k6,\n",
       " Hep*de*k5 - Hepp*de*k6,\n",
       " H*He*k8 + H*de*k1 + 2*H*k7 + He*de*k3 - Hep*de*k4 + Hep*de*k5 - Hepp*de*k6 - Hp*de*k2]"
      ]
     },
     "execution_count": 12,
     "metadata": {},
     "output_type": "execute_result"
    }
   ],
   "source": [
    "get_all_equations([H, Hp, He, Hep, Hepp, de])"
   ]
  },
  {
   "cell_type": "markdown",
   "metadata": {},
   "source": [
    "So the rhs function. I tried initially to have it generate the equations symbolically and then just sub into them from there. I wanted to do this so that you would only have to input the elements you want to consider and then it would automatically generate the correct equations. I got this working, but the only issue was that it ran CRAZY SLOW! I am guessing the main limiting factor was subbing into the sympy equations. I did try speeding it up in a few different ways, but none seemed to help. Eventually, I gave in and just manually coded in the equations my get_all_equations function returned. I decided to consider a few different element cases instead and have that be an input parameter.\n",
    "\n",
    "I left the old code in the Assignment_3_old file if you would like to take a look at what I was trying to do\n",
    "\n",
    "I changed the rhs to not calculate the dnedt because of what Dr.Turk said in the Slack chat. I instead calculated this separately and used it as an input into the rhs function. This will be discussed more later."
   ]
  },
  {
   "cell_type": "code",
   "execution_count": 56,
   "metadata": {
    "collapsed": true
   },
   "outputs": [],
   "source": [
    "def rhs(t, state,  element_case, de, T):\n",
    "    #Element Case 1: elements = [H, Hp, de]\n",
    "    #Element Case 2: elements = [H, Hp, He, Hep, Hepp, de]\n",
    "    #Element Case 3: elements = [H, Hp, Hm, He, Hep, Hepp, H2, H2p, grain, de]\n",
    "    \n",
    "    if element_case == 1:\n",
    "        H, Hp = state[0], state[1]\n",
    "        dnHdt = Hp * de * k2_function(T) - H * de * k1_function(T)\n",
    "        dnHpdt = H * de * k1_function(T) - Hp * de * k2_function(T)\n",
    "        return np.array([\n",
    "            dnHdt, dnHpdt\n",
    "        ])\n",
    "        \n",
    "    elif element_case == 2:\n",
    "        H, Hp, He, Hep, Hepp = state[0], state[1], state[2], state[3], state[4]\n",
    "        k1, k2, k3, k4, k5, k6, k7, k8 = k1_function(T),k2_function(T),k3_function(T),k4_function(T),k5_function(T), \\\n",
    "                                         k6_function(T),k7_function(T),k8_function(T)\n",
    "                                         \n",
    "        dnHdt = -H*He*k8 - H*de*k1 + Hp*de*k2\n",
    "        dnHpdt = H*He*k8 + H*de*k1 + 2*H*k7 - Hp*de*k2\n",
    "        dnHedt = -He*de*k3 + Hep*de*k4\n",
    "        dnHepdt = He*de*k3 - Hep*de*k4 - Hep*de*k5 + Hepp*de*k6\n",
    "        dnHeppdt = Hep*de*k5 - Hepp*de*k6\n",
    "        return np.array([\n",
    "            dnHdt, dnHpdt, dnHedt, dnHepdt, dnHeppdt\n",
    "        ])"
   ]
  },
  {
   "cell_type": "markdown",
   "metadata": {},
   "source": [
    "The evolve function is where I have run into the most issues with this assignment. I originally had it structured very similar to what we coded up in lecture. However, when trying to do the same thing for the six species network my integrator wouldn't converge. I emailed the professor about it and he suggested using the bdf methods for the integrators and implementing a dt that changes in time. I did both of these things, and my code would run but it was taking a very long time. This was because I was still using the sympy sub in method rather than using the numpy array method. After making that switch my code would run pretty fast and it could successfully evolve the six species system.\n",
    "\n",
    "However, this was all when I was manually using the fractions of each element as inputs. Since the assignment page asked for the ionization fractions as inputs I had to figure that out. I also had to figure out what to do with the $\\mu$ value and how to evolve T with time. Oh, also I had to figure out how the units for this were going to work out since we were adding in physical constants. there was a lot to figure out.\n",
    "\n",
    "After talking with the TA at office hours, I was able to figure most of these things out. I was originally making the calculation for $/mu$ much more complicated than it needed to be. I also had several errors in how I was handeling units. All of these old mistakes can be found in the Assignment_3_old file if you wanna take a look at how wrong I was.\n",
    "\n",
    "I mainly used http://personal.psu.edu/rbc3/A534/lec5.pdf that the Professor linked in Slack to try and figure some of this out. Being honest though a lot of the units and aspects of $\\mu$ were very confusing to me. I tried my best to implement them but I wasn't sure if it was right. I think this was mainly because we didn't go over this in class at all really so I didn't really have a baseline for what I should be getting when evolving these types of systems. The TA was very helpful in clearing this up though"
   ]
  },
  {
   "cell_type": "markdown",
   "metadata": {},
   "source": [
    "One of the main issues I was running into was how to handle $\\mu$. I think I had the wrong equation for it because it was not changing throughout the entire evolution which I don't think is what the professor wanted to happen. He made it sound like it should be changing over time so T would change over time. However, I was using the equation $\\mu = \\frac{p_0} {\\sum f_i} $ and the $f_i$'s will always sum to 2.0(1.0 for the H and 1.0 for the He) and $p_0$ is a constant so I was unsure what in this formula would cause T to change over time.\n",
    "\n",
    "After talking with the TA, I realized the equation should be $\\mu = \\frac{p_0} {\\sum n_i} $ and this helped my code to run successfully."
   ]
  },
  {
   "cell_type": "markdown",
   "metadata": {},
   "source": [
    "Also, the TA said that she would like p0 to be input in the units of g / cm^3. However, the density the professor gave us in the Slack chat was 1e-2 part / cm^3 which was a number density. In order to get a test density in the correct units the following process was done:\n",
    "\n",
    "$$n_{tot} = 1 * 10^{-2} = n_{Hall} + n_{Heall}$$\n",
    "$$n_{tot} = p_0(\\frac{X_H}{m_H} + \\frac{X_He}{m_He}) $$\n",
    "$$ p_0 = n_{tot} * (\\frac{X_H}{m_H} + \\frac{X_He}{m_He})^{-1}$$\n",
    "\n",
    "This gave me a value of 2.04001229e-26 g/cm^3 that I used to test my code.\n"
   ]
  },
  {
   "cell_type": "code",
   "execution_count": 82,
   "metadata": {
    "collapsed": true
   },
   "outputs": [],
   "source": [
    "def evolve(p0 = 2.04001229e-26,f_H = 1e-6, f_He = 0.0, final_t = 1e10, integrator_type = \"lsoda\", \n",
    "           safety_factor = 1000, element_case = 1, T0 = 1000):\n",
    "    #p0 in units g cm^-3\n",
    "    \n",
    "    #Set the elements we will be considering depending on the function input\n",
    "    if element_case == 1:\n",
    "        elements = ['H', 'Hp']\n",
    "    elif element_case == 2:\n",
    "        elements = ['H', 'Hp', 'He', 'Hep', 'Hepp']\n",
    "    \n",
    "    \n",
    "    #Define Constants\n",
    "    gamma = (5.0 / 3.0)\n",
    "    k = 1.38064852 * 10**-16 # cm^2 g K^-1 sec^-2 \n",
    "    mH = 1.6737236 * 10**-24 # g\n",
    "    mHe = 6.6464764e-24 # g\n",
    "    g_to_amu = 1.66054e-24 #grams per a.m.u.\n",
    "    \n",
    "    #Define Mass Fractions\n",
    "    x_H = 0.76\n",
    "    x_He = 0.24\n",
    "    \n",
    "    if element_case == 1:\n",
    "        #Generate inital number densities\n",
    "        nHAll = (x_H * p0) / mH\n",
    "        \n",
    "        nH = (1-f_H) * nHAll\n",
    "        nHp = (f_H) * nHAll\n",
    "        \n",
    "        de = nHp\n",
    "        \n",
    "    elif element_case == 2:\n",
    "        #Generate inital number densities\n",
    "        nHAll = (x_H * p0) / mH\n",
    "        nHeAll = (x_He * p0) / mHe\n",
    "    \n",
    "        nH = (1-f_H) * nHAll\n",
    "        nHp = (f_H) * nHAll\n",
    "    \n",
    "        nHe = (1.0-f_He - 0.00001) * nHeAll\n",
    "        nHep = (f_He) * nHeAll\n",
    "        nHepp = nHeAll * 0.00001\n",
    "    \n",
    "        de = nHp + nHep + 2*nHepp\n",
    "    \n",
    "    #Set the initial state depending on which case we are considering\n",
    "    if element_case == 1:\n",
    "        initial_state = np.array([nH, nHp])\n",
    "    elif element_case == 2:\n",
    "        initial_state = np.array([nH, nHp, nHe, nHep, nHepp])\n",
    "    \n",
    "    #Generate an initial mean molecular weight\n",
    "    u0 = (p0 / (np.sum(initial_state) + de)) / g_to_amu# Divide by g_to_amu to make unitless\n",
    "    \n",
    "    #Use u0 and an initial guess for T to generate an initial e\n",
    "    #This will stay constant throughout the evolution\n",
    "    #I think the professor told me this should be in erg/g\n",
    "    e = k * T0 / ((gamma - 1) * u0 * mH) #This e is in cm^2 / sec^2\n",
    "    \n",
    "    #Return a value for T given a u using the fact that e will be constant throughout the evolution\n",
    "    def get_T(u):\n",
    "        return ((1.0 / k) * e * (gamma - 1) * u * mH)\n",
    "    \n",
    "    #Return a value for u given a state vector\n",
    "    def get_u(state, de):\n",
    "        u = (p0 / (np.sum(state) + de)) / g_to_amu # Divide by g_to_amu to make unitless\n",
    "        return (u)\n",
    "    \n",
    "    \n",
    "    #Update the Temperature given a state vector and de. This will be run every time step\n",
    "    def update(state, de):\n",
    "        u = get_u(state, de)\n",
    "        T = get_T(u)\n",
    "        return (T)\n",
    "        \n",
    "\n",
    "    \n",
    "    #Set up the integrator\n",
    "    integrator = sint.ode(rhs)\n",
    "    integrator.set_initial_value(initial_state, t = 0)\n",
    "    integrator.set_f_params(element_case, de, T0)\n",
    "    integrator.set_integrator(integrator_type, method = \"bdf\")\n",
    "    \n",
    "    #Set up the data containers to hold results\n",
    "    state_vector_values = []\n",
    "    ts = []\n",
    "    des = []\n",
    "    ts.append(integrator.t)\n",
    "    state_vector_values.append(integrator.y)\n",
    "    des.append(de)\n",
    "    \n",
    "    #Initialize a counter to help with progress checking and debugging\n",
    "    count = 0\n",
    "    \n",
    "    #Set the new T to be equal to the initial T. This will change every time step\n",
    "    T_new = T0\n",
    "    \n",
    "    #Define dt as a constant value since I couldn't get the change every timestep method working\n",
    "    dt = final_t / safety_factor\n",
    "    \n",
    "    while integrator.t < final_t:\n",
    "        #Calculate a new dt (1e-4 is used as a softening length to make sure dt doesn't blow up)\n",
    "        #Couldn't get this to work\n",
    "        #dt = safety_factor * abs(np.min(integrator.y / (1e-4 + rhs(integrator.t, integrator.y,\n",
    "                                                                            #element_case, des[-1], T_new))))\n",
    "        #Progress Check\n",
    "        #if count % 1000 == 0:\n",
    "            #print(integrator.t, final_t)\n",
    "\n",
    "        #Integrate\n",
    "        integrator.integrate(integrator.t + dt)\n",
    "        ts.append(integrator.t)\n",
    "        state_vector_values.append(integrator.y)\n",
    "        \n",
    "        #Update de:\n",
    "        if element_case == 1:\n",
    "            des.append(integrator.y[1])\n",
    "        elif element_case == 2:\n",
    "            des.append(integrator.y[1] + integrator.y[3] + 2*integrator.y[4])\n",
    "        \n",
    "        #Update the Temperature based on the new state\n",
    "        T_new = update(integrator.y, des[-1])\n",
    "        \n",
    "        integrator.set_f_params(element_case, des[-1], T_new)\n",
    "        \n",
    "        count += 1\n",
    "    \n",
    "    state_vector_values = np.array(state_vector_values)\n",
    "    ts = np.array(ts)\n",
    "    \n",
    "    #Showing Number Densities:\n",
    "    plt.figure(1)\n",
    "    \n",
    "    for i in range(len(elements)):\n",
    "        plt.loglog(ts,state_vector_values[:,i], label = str(elements[i]) )\n",
    "    \n",
    "    plt.loglog(ts, des, label = \"de\", ls = \"-.\")\n",
    "    \n",
    "    plt.legend()\n",
    "    \n",
    "    plt.title(\"Number Density of Species over Time\")\n",
    "    plt.xlabel(\"Time\")\n",
    "    plt.ylabel(\"Number Density[Particle / cm^3]\")\n",
    "    \n",
    "    #Showing Fractions:\n",
    "    if element_case == 1:\n",
    "        nHall = state_vector_values[:,0] + state_vector_values[:,1]\n",
    "            \n",
    "        fH = state_vector_values[:,0] / nHAll\n",
    "        fHp = state_vector_values[:,1] / nHAll\n",
    "        \n",
    "        fs = np.zeros((len(fH), len(elements)))\n",
    "        \n",
    "        fs[:,0] = fH\n",
    "        fs[:,1] = fHp\n",
    "        \n",
    "    elif element_case == 2:\n",
    "            \n",
    "        nHall = state_vector_values[:,0] + state_vector_values[:,1]\n",
    "        nHeAll = state_vector_values[:,2] + state_vector_values[:,3] + state_vector_values[:,4]\n",
    "    \n",
    "        fH = state_vector_values[:,0] / nHAll\n",
    "        fHp = state_vector_values[:,1] / nHAll\n",
    "    \n",
    "        f_He = state_vector_values[:,2] / nHeAll\n",
    "        f_Hep = state_vector_values[:,3] / nHeAll\n",
    "        f_Hepp = state_vector_values[:,4] / nHeAll\n",
    "                \n",
    "        fs = np.zeros((len(fH), len(elements)))\n",
    "    \n",
    "        fs[:,0] = fH\n",
    "        fs[:,1] = fHp\n",
    "        fs[:,2] = f_He\n",
    "        fs[:,3] = f_Hep\n",
    "        fs[:,4] = f_Hepp\n",
    "    \n",
    "    plt.figure(2)\n",
    "    \n",
    "    #Plot all of the elements except de\n",
    "    for i in range(len(elements)):\n",
    "        if elements[i] == \"He\" or elements[i] == \"Hep\" or elements[i] == \"Hepp\":\n",
    "            linestyle = \"--\"\n",
    "        else:\n",
    "            linestyle = \"-\"\n",
    "        plt.loglog(ts,fs[:,i], label = str(elements[i]), ls = linestyle)\n",
    "    plt.legend()\n",
    "    \n",
    "    plt.title(\"Fraction of Species Over Time\")\n",
    "    plt.xlabel(\"Time\")\n",
    "    plt.ylabel(\"Fraction of Species\")\n",
    "    \n",
    "    plt.show()"
   ]
  },
  {
   "cell_type": "code",
   "execution_count": 83,
   "metadata": {},
   "outputs": [
    {
     "data": {
      "image/png": "[encoded data removed]",
      "text/plain": [
       "<matplotlib.figure.Figure at 0x7ff872ecab70>"
      ]
     },
     "metadata": {},
     "output_type": "display_data"
    },
    {
     "data": {
      "image/png": "[encoded data removed]",
      "text/plain": [
       "<matplotlib.figure.Figure at 0x7ff87253b048>"
      ]
     },
     "metadata": {},
     "output_type": "display_data"
    }
   ],
   "source": [
    "evolve(element_case=2, f_H = 0.5, f_He = 0.0, safety_factor=1000000, T0 = 10**4)"
   ]
  },
  {
   "cell_type": "markdown",
   "metadata": {},
   "source": [
    "The only thing I could not figure out was what was going on with my dt. The professor said we were supposed to update dt every time step using the equation dt = safety_factor * min(S/Sdot) where S is the number density of the species and Sdot is the time derivative of the species. However, when I was implementing this earlier it would go to zero as time went on so the integration would never complete. I believe this is the opposite of what should be happeneing. This problem has gotten worse now that I have fixed all of my unit mistakes. Now when I try to implement the formula for dt my kernel crashes immediately. This makes me think I either did something wrong with my units or with my implementation of the dt formula.\n",
    "\n",
    "I will use the method we used in class for dt instead, but keep my code for the new way of calculating dt commented"
   ]
  },
  {
   "cell_type": "markdown",
   "metadata": {},
   "source": [
    "# Write-Up Question Answers:"
   ]
  },
  {
   "cell_type": "markdown",
   "metadata": {},
   "source": [
    "### When is it slower and faster? When it is near equilibrium or far?"
   ]
  },
  {
   "cell_type": "markdown",
   "metadata": {},
   "source": [
    "The code ran slower when adding more species into the mix. It also tended to go a little slower the larger I mad the initial temperature, but overall there wasn't much decrease. I would think the integration would take a shorter amount of time when things are changing within the system, but I did not test this too much. It seems to be in equilibrium for the start of most of the test cases I ran and then the system usually began to change around 10^8 sec and then it would reach another equilibrium after that. That mainly happened for the cases where f_H = 1.0. In the cases where f_H = 0.0 and f_H = 1e-6 most of the species stayed constant over time, but those that did change tended to chage up until 10^8 sec and then they would reach equilibrium.\n",
    "\n",
    "It seems like 10^8 sec seems to be the magic number where things change. This was all tested for temperatures around 10^5.5 K, so temperature may play some effect on this as well. It does seem that it only reaches an equilibrium when the temperature is high enough."
   ]
  },
  {
   "cell_type": "markdown",
   "metadata": {},
   "source": [
    "### Do you see any particularly interesting regions in phase space?"
   ]
  },
  {
   "cell_type": "markdown",
   "metadata": {},
   "source": [
    "Most of the interesting regions I discussed in the previous cell. The interesting regions mainly only appeared when the temperature was set to a high enough value(above 10^5 K). These regions mainly consisted of H or Hp changing around 10^8 sec while Hep would be changing during the entire simulation. \n",
    "\n",
    "It was interesting that de follows H or Hp so closely. I think this mainly was because of the change Dr. Turk made to how we handle the dnedt. I am not sure if I implemented it correctly "
   ]
  },
  {
   "cell_type": "markdown",
   "metadata": {
    "collapsed": true
   },
   "source": [
    "# Issues I ran into:"
   ]
  },
  {
   "cell_type": "markdown",
   "metadata": {},
   "source": [
    "So I ran into many issues throughout this assignemnt and I talked about many of them throughout this writeup, but I would like to make note of a few that have remained unsolved"
   ]
  },
  {
   "cell_type": "markdown",
   "metadata": {
    "collapsed": true
   },
   "source": [
    "* My fractions of the species over time plots will go above 1 at some times. I am not sure why this would happen since I don't think any H should become He or vice versa. I thought the only things that would change would be the ionization. I have triple checked my code and can't find out why that is happening, so that's a bummer.\n",
    "\n",
    "* My plots don't look like how I think they should. When I was using the specific number densities as inputs I was getting much nicer looking plots. Meaning they have more curves and the ionizations would change for each species with respect to the other ones how I think they should. Now that I have implemented the ionization fractions as inputs my plots look pretty strange. I am not sure what happened there, but I think it may be due to an order of magnitude difference in what I was inputting and what was being calculated. This problem could stem from a misunderstanding of the units.\n",
    "\n",
    "* Also, I getting that my de is following my H or Hp almost exactly which doesn't make much sense to me. I'm pretty sure that is wrong, but I have no idea why that is happening or how to fix it."
   ]
  },
  {
   "cell_type": "markdown",
   "metadata": {},
   "source": [
    "# Ending Comments"
   ]
  },
  {
   "cell_type": "markdown",
   "metadata": {},
   "source": [
    "Hopefully I covered everything in this assignement! I don't think it is working perfectly, but I have coded up everything as I understand it, and debugged what I could. Thank you for a great semester. This has really been one of my favorite courses throughout my undergraduate career. I wish you the best of luck in the future iterations of this course!"
   ]
  },
  {
   "cell_type": "code",
   "execution_count": null,
   "metadata": {
    "collapsed": true
   },
   "outputs": [],
   "source": []
  }
 ],
 "metadata": {
  "anaconda-cloud": {},
  "kernelspec": {
   "display_name": "Python 2",
   "language": "python",
   "name": "python2"
  },
  "language_info": {
   "codemirror_mode": {
    "name": "ipython",
    "version": 3
   },
   "file_extension": ".py",
   "mimetype": "text/x-python",
   "name": "python",
   "nbconvert_exporter": "python",
   "pygments_lexer": "ipython3",
   "version": "3.6.3"
  }
 },
 "nbformat": 4,
 "nbformat_minor": 1
}
